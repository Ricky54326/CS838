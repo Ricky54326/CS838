{
 "cells": [
  {
   "cell_type": "code",
   "execution_count": 259,
   "metadata": {
    "collapsed": false
   },
   "outputs": [],
   "source": [
    "def countWordsInBetween(str):\n",
    "    a = len(str.split())\n",
    "    return a\n",
    "\n",
    "def endOfSentence (str): #checking if tag ends the sentence \n",
    "    if  str == \".\" or str == \"!\" or str == \"?\":\n",
    "        return 1\n",
    "    else:\n",
    "        return 0\n",
    "\n",
    "def endsWith (str): # checking if tag is followed by 's\n",
    "    if str == \"'s\":\n",
    "        return 1\n",
    "    else: \n",
    "        return 0\n",
    "    \n",
    "def isAllUpperCase (str):\n",
    "    a = 1\n",
    "    words = str.split()\n",
    "    for i in range(len(words)):\n",
    "        if words[i][0] == \"$\" or words[i] == \"von\" or words[i] == \"van\" or words[i] == \"da\" or words[i] == \"di\" or words[i] == \"de\" or words[i] == \"der\" or words[i] == \"ter\" or words[i] == \"al-\" or words[i][0:3] == \"al-\" or words[i] == \"ibn\" :\n",
    "            continue\n",
    "        if words[i][0].isupper() != 1:\n",
    "            a = 0\n",
    "            break       \n",
    "    return a\n",
    "\n",
    "def checkArticles(str, index):\n",
    "    if index == 1 and (str[index-1:index]==\"a\" or str[index-1:index] == \"A\"):\n",
    "        return 1\n",
    "    if index == 2 and (str[index-2:index] == \"an\" or str[index-2:index]) == \"An\":\n",
    "        return 1\n",
    "    if index > 2 and (str[index-3:index] == \"the\" or str[index-3:index] == \"The\" or str[index-2:index] == \"an\" or str[index-2:index] == \"An\" or str[index-1:index]==\"a\" or str[index-1:index]== \"A\"):\n",
    "        return 1\n",
    "    else:\n",
    "        return 0        \n",
    "def checkQuotations (str,startIndex):\n",
    "    if startIndex > 0 and str[startIndex-1] == \"\\\"\":\n",
    "        return 1\n",
    "    else:\n",
    "        return 0\n",
    "    "
   ]
  },
  {
   "cell_type": "code",
   "execution_count": 266,
   "metadata": {
    "collapsed": false
   },
   "outputs": [],
   "source": [
    "import sqlite3\n",
    "import pandas as pd\n",
    "import numpy as np\n",
    "import matplotlib.pyplot as plt\n",
    "\n",
    "file = open (\"tagged_reviews.csv\",\"r\")\n",
    "newFile = open (\"dataset.csv\",\"w\")\n",
    "data = file.read()\n",
    "pos = data\n",
    "count = data.count(\"<name>\")\n",
    "for i in range(count+1):\n",
    "    startIndex = pos.index(\"<name>\")\n",
    "    endIndex = pos.index(\"</name>\")\n",
    "    s = checkArticles(pos, startIndex-1)\n",
    "    newFile.write(str(s)+\",\")\n",
    "    s = checkQuotations(pos,startIndex)\n",
    "    newFile.write(str(s) +\",\")\n",
    "    words = pos[startIndex+6:endIndex]\n",
    "    numWords = countWordsInBetween(words)\n",
    "    newFile.write(str(numWords)+\",\")\n",
    "    s = isAllUpperCase(words)\n",
    "    newFile.write(str(s)+\",\")\n",
    "    s = endsWith(pos[endIndex+7:endIndex+9])\n",
    "    newFile.write(str(s)+\",\")\n",
    "    s = endOfSentence(pos[endIndex+7:endIndex+8])\n",
    "    newFile.write(str(s)+\",\")\n",
    "    newFile.write(str(1)+\"\\n\")\n",
    "    pos = pos[endIndex+7:]\n",
    "    \n",
    "neg = data\n",
    "count = data.count(\"<neg>\")\n",
    "for i in range(count+1):\n",
    "    startIndex = neg.index(\"<neg>\")\n",
    "    endIndex = neg.index(\"</neg>\")\n",
    "    s = checkArticles(neg, startIndex-1)\n",
    "    newFile.write(str(s)+\",\")\n",
    "    s = checkQuotations(neg,startIndex)\n",
    "    newFile.write(str(s) +\",\")\n",
    "    words = neg[startIndex+5:endIndex]\n",
    "    numWords = countWordsInBetween(words)\n",
    "    newFile.write(str(numWords)+\",\")\n",
    "    s = isAllUpperCase(words)\n",
    "    newFile.write(str(s)+\",\")\n",
    "    s = endsWith(neg[endIndex+6:endIndex+7])\n",
    "    newFile.write(str(s)+\",\")\n",
    "    s = endOfSentence(neg[endIndex+6:endIndex+7])\n",
    "    newFile.write(str(s)+\",\")\n",
    "    newFile.write(str(0)+\"\\n\")\n",
    "    neg = neg[endIndex+6:]\n",
    "file.close()\n",
    "newFile.close()\n"
   ]
  },
  {
   "cell_type": "code",
   "execution_count": null,
   "metadata": {
    "collapsed": true
   },
   "outputs": [],
   "source": []
  }
 ],
 "metadata": {
  "anaconda-cloud": {},
  "kernelspec": {
   "display_name": "Python [conda root]",
   "language": "python",
   "name": "conda-root-py"
  },
  "language_info": {
   "codemirror_mode": {
    "name": "ipython",
    "version": 3
   },
   "file_extension": ".py",
   "mimetype": "text/x-python",
   "name": "python",
   "nbconvert_exporter": "python",
   "pygments_lexer": "ipython3",
   "version": "3.5.2"
  }
 },
 "nbformat": 4,
 "nbformat_minor": 1
}
